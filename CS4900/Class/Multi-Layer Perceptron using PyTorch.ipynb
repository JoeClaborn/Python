{
 "cells": [
  {
   "cell_type": "markdown",
   "id": "5222bb42-01df-4bd9-943e-e3d9833c4f17",
   "metadata": {},
   "source": [
    "# Train a multi-layer perceptron (MLP) classification model using PyTorch\n",
    "\n",
    "We use the Fashion MNIST data to train and test this MLP classification model."
   ]
  },
  {
   "cell_type": "code",
   "execution_count": 2,
   "id": "3c4fd6ba",
   "metadata": {},
   "outputs": [],
   "source": [
    "import numpy as np\n",
    "\n",
    "import torch\n",
    "import torch.optim as optim\n",
    "import torch.nn as nn\n",
    "import torch.nn.functional as F\n",
    "from torchvision import datasets, transforms\n",
    "from torch.utils.data import DataLoader\n",
    "\n",
    "from sklearn.metrics import accuracy_score, f1_score, confusion_matrix\n",
    "\n",
    "import matplotlib as mpl\n",
    "import matplotlib.pyplot as plt"
   ]
  },
  {
   "cell_type": "markdown",
   "id": "cd64b3c2",
   "metadata": {},
   "source": [
    "## Load and process Fashion MNIST data for image classification\n",
    "\n",
    "Fashion MNIST contains 70,000 28x28 images (60,000 for training and 10,000 for testing), and each image has 784 pixel values (784-dimensional features) "
   ]
  },
  {
   "cell_type": "code",
   "execution_count": 4,
   "id": "0d5cebe1",
   "metadata": {},
   "outputs": [],
   "source": [
    "#Convert the dataset into Tensor used by PyTorch\n",
    "transform=transforms.Compose([\n",
    "         transforms.ToTensor(),\n",
    "        ])\n",
    "\n",
    "#Download the Fashion MINST data directly from PyTorch\n",
    "#The downloaded datasets are stored in the same folder with this jupyter notebook file\n",
    "#For train dataset, use \"train=True\"\n",
    "#For test dataset, use \"train=False\"\n",
    "train_dataset = datasets.FashionMNIST('./data', train=True, download=True, transform=transform)\n",
    "test_dataset = datasets.FashionMNIST('./data', train=False, download=True, transform=transform)\n",
    "\n",
    "#Load the datasets into DataLoader\n",
    "train_dataloader = DataLoader(train_dataset, batch_size=64, shuffle=True)\n",
    "test_dataloader = DataLoader(test_dataset, batch_size=64, shuffle=False)\n",
    "\n",
    "class_names = [\"T-shirt/top\", \"Trouser\", \"Pullover\", \"Dress\", \"Coat\",\n",
    "               \"Sandal\", \"Shirt\", \"Sneaker\", \"Bag\", \"Ankle boot\"]"
   ]
  },
  {
   "cell_type": "markdown",
   "id": "f8f05100",
   "metadata": {},
   "source": [
    "## Plot some Fashion MNIST examples"
   ]
  },
  {
   "cell_type": "code",
   "execution_count": 5,
   "id": "6b544052",
   "metadata": {},
   "outputs": [
    {
     "data": {
      "image/png": "[encoded data removed]",
      "text/plain": [
       "<Figure size 800x400 with 10 Axes>"
      ]
     },
     "metadata": {},
     "output_type": "display_data"
    }
   ],
   "source": [
    "#One batach has 64 images\n",
    "dataiter = iter(train_dataloader)\n",
    "samples = next(dataiter)\n",
    "\n",
    "# Plot the data\n",
    "def plot_digits(instances, labels, images_per_row=5):\n",
    "    for i in range(len(instances)):\n",
    "        idx = i // images_per_row\n",
    "        idy = i % images_per_row \n",
    "        ax[idx, idy].imshow(instances[i].squeeze(), cmap=\"gray\")\n",
    "        ax[idx, idy].set_title(class_names[labels[i]])\n",
    "        ax[idx, idy].axis(\"off\")\n",
    "\n",
    "fig, ax = plt.subplots(2, 5, figsize=(8, 4))\n",
    "example_images = samples[0][:10]\n",
    "example_labels = samples[1][:10]\n",
    "plot_digits(example_images, example_labels, images_per_row=5)\n",
    "plt.show()"
   ]
  },
  {
   "cell_type": "markdown",
   "id": "a1a2c53a",
   "metadata": {},
   "source": [
    "## Construct a multi-layer perceptron (MLP) for image classification"
   ]
  },
  {
   "cell_type": "code",
   "execution_count": 6,
   "id": "1204f685",
   "metadata": {},
   "outputs": [],
   "source": [
    "np.random.seed(42)\n",
    "torch.manual_seed(42)\n",
    "\n",
    "class MLP(nn.Module):\n",
    "    def __init__(self):\n",
    "        super(MLP, self).__init__()\n",
    "        self.flatten = nn.Flatten()    #Convert the image from matrix to vector\n",
    "        self.fc1 = nn.Linear(784, 300) #The input layer with 784 features, and the first hidden layer with 300 neurons\n",
    "        self.fc2 = nn.Linear(300, 100) #The second hidden layer with 100 neurons\n",
    "        self.fc3 = nn.Linear(100, 10)  #The output layer with 10 classes\n",
    "\n",
    "    def forward(self, x):\n",
    "        x = self.flatten(x)\n",
    "        x = F.relu(self.fc1(x))        #The first hidden layer uses ReLU activation function\n",
    "        x = F.relu(self.fc2(x))        #The first hidden layer uses ReLU activation function\n",
    "        x = self.fc3(x)                #The output layer does not apply any activation function here, but will be processed directly by loss function\n",
    "        return x"
   ]
  },
  {
   "cell_type": "markdown",
   "id": "5b9a0f36",
   "metadata": {},
   "source": [
    "## Set up some hyperparameters: use cross entropy loss, gradient descent with Adam optimizer, learning rate, and epochs"
   ]
  },
  {
   "cell_type": "code",
   "execution_count": 7,
   "id": "a2bb661b",
   "metadata": {},
   "outputs": [
    {
     "name": "stdout",
     "output_type": "stream",
     "text": [
      "MLP(\n",
      "  (flatten): Flatten(start_dim=1, end_dim=-1)\n",
      "  (fc1): Linear(in_features=784, out_features=300, bias=True)\n",
      "  (fc2): Linear(in_features=300, out_features=100, bias=True)\n",
      "  (fc3): Linear(in_features=100, out_features=10, bias=True)\n",
      ")\n"
     ]
    }
   ],
   "source": [
    "epochs = 10\n",
    "learning_rate = 0.01\n",
    "weight_decay = 5e-4\n",
    "lossfunction = nn.CrossEntropyLoss()   #Cross entropy loss for multi-class classification\n",
    "\n",
    "#Instantiate the model from \"MultiClassification\" class definition\n",
    "model = MLP()\n",
    "\n",
    "#Use Adam optimizer\n",
    "optimizer = optim.Adam(model.parameters(), lr=learning_rate, weight_decay=weight_decay)\n",
    "\n",
    "print(model)"
   ]
  },
  {
   "cell_type": "markdown",
   "id": "24eb36ec",
   "metadata": {},
   "source": [
    "## Train the model using train_dataloader"
   ]
  },
  {
   "cell_type": "code",
   "execution_count": 8,
   "id": "6b1613db",
   "metadata": {},
   "outputs": [
    {
     "name": "stdout",
     "output_type": "stream",
     "text": [
      "epoch (1): Train accuracy: 0.7972, loss: 0.009\n",
      "epoch (2): Train accuracy: 0.8304, loss: 0.007\n",
      "epoch (3): Train accuracy: 0.8387, loss: 0.007\n",
      "epoch (4): Train accuracy: 0.8383, loss: 0.007\n",
      "epoch (5): Train accuracy: 0.8404, loss: 0.007\n",
      "epoch (6): Train accuracy: 0.8409, loss: 0.007\n",
      "epoch (7): Train accuracy: 0.8412, loss: 0.007\n",
      "epoch (8): Train accuracy: 0.8430, loss: 0.007\n",
      "epoch (9): Train accuracy: 0.8442, loss: 0.007\n",
      "epoch (10): Train accuracy: 0.8451, loss: 0.007\n"
     ]
    }
   ],
   "source": [
    "#Define the training function\n",
    "def train(epoch, model, train_dataloader, optimizer, lossfunction):\n",
    "    model.train()\n",
    "    \n",
    "    train_loss = 0.0\n",
    "    train_total, train_correct = 0.0, 0.0 \n",
    "    \n",
    "    for X_batch, y_batch in train_dataloader:\n",
    "        optimizer.zero_grad()\n",
    "\n",
    "        #Get the predicted output\n",
    "        predictions = model(X_batch)\n",
    "\n",
    "        #Calculate the loss\n",
    "        loss = lossfunction(predictions, y_batch)\n",
    "        \n",
    "        #Update the weights usning gradient descent with Adam optimizer\n",
    "        loss.backward()\n",
    "        optimizer.step()\n",
    "        \n",
    "        #Convert probabilities to multi-class predictions (reutrn the class with the maximal proability)\n",
    "        _, train_predicted = torch.max(predictions.data, 1)\n",
    "        \n",
    "        #Calculate the training statistics\n",
    "        train_loss += loss.item()\n",
    "        train_total += y_batch.size(0)\n",
    "        train_correct += (train_predicted == y_batch).sum().item()\n",
    "\n",
    "    print(\"epoch (%d): Train accuracy: %.4f, loss: %.3f\" % (epoch, train_correct/train_total, train_loss/train_total))\n",
    "    \n",
    "    \n",
    "#Train the model\n",
    "for epoch in range(1, epochs + 1):\n",
    "    train(epoch, model, train_dataloader, optimizer, lossfunction)"
   ]
  },
  {
   "cell_type": "markdown",
   "id": "b5503666",
   "metadata": {},
   "source": [
    "## Test the model using test_dataloader"
   ]
  },
  {
   "cell_type": "code",
   "execution_count": 12,
   "id": "80c7f3ad",
   "metadata": {},
   "outputs": [
    {
     "name": "stdout",
     "output_type": "stream",
     "text": [
      "Test accuracy: 0.8318, macro f1_score: 0.8268\n"
     ]
    }
   ],
   "source": [
    "#Define the test function\n",
    "def test():\n",
    "    model.eval()\n",
    "    \n",
    "    test_correct, test_total = 0.0, 0.0\n",
    "    y_test, y_pred = [], []\n",
    "    \n",
    "    with torch.no_grad():\n",
    "        for X_batch, y_batch in test_dataloader:\n",
    "            predictions = model(X_batch)\n",
    "            \n",
    "            #Convert probabilities to multi-class predictions (reutrn the class with the maximal proability)\n",
    "            _, test_predicted = torch.max(predictions.data, 1)\n",
    "        \n",
    "            test_total += y_batch.size(0)\n",
    "            test_correct += (test_predicted == y_batch).sum().item()\n",
    "            \n",
    "            y_test += y_batch.tolist()\n",
    "            y_pred += test_predicted.tolist()\n",
    "\n",
    "    f1 = f1_score(y_test, y_pred, average=\"macro\")\n",
    "    print('Test accuracy: %.4f, macro f1_score: %.4f' % (test_correct / test_total, f1))\n",
    "    \n",
    "    return y_test, y_pred\n",
    "\n",
    "#Test the model\n",
    "y_test, y_pred = test()"
   ]
  },
  {
   "cell_type": "markdown",
   "id": "2014dd96",
   "metadata": {},
   "source": [
    "## Output the confusion matrix"
   ]
  },
  {
   "cell_type": "code",
   "execution_count": 13,
   "id": "b9adc64e",
   "metadata": {},
   "outputs": [
    {
     "name": "stdout",
     "output_type": "stream",
     "text": [
      "Confusion Matrix\n",
      "\n",
      "[[879   8  16  27   0   1  56   0  13   0]\n",
      " [  3 967   2  25   1   0   0   0   2   0]\n",
      " [ 13   8 855  15  67   0  32   0  10   0]\n",
      " [ 43  18  13 882  19   0  18   0   7   0]\n",
      " [  1   7 299  63 552   0  71   0   7   0]\n",
      " [  1   1   0   0   0 881   0  90   3  24]\n",
      " [238  12 189  23  47   1 470   0  20   0]\n",
      " [  0   0   0   0   0   8   0 980   0  12]\n",
      " [  1   1  12   5   2   4  13  10 952   0]\n",
      " [  0   2   0   0   0  10   0  87   1 900]]\n"
     ]
    }
   ],
   "source": [
    "confusion = confusion_matrix(y_test, y_pred)\n",
    "print('Confusion Matrix\\n')\n",
    "print(confusion)"
   ]
  },
  {
   "cell_type": "markdown",
   "id": "6df650f0",
   "metadata": {},
   "source": [
    "## Calculate accuracy, macro F1-score, and micro F1-score"
   ]
  },
  {
   "cell_type": "code",
   "execution_count": 14,
   "id": "d1f3ddfc",
   "metadata": {},
   "outputs": [
    {
     "name": "stdout",
     "output_type": "stream",
     "text": [
      "Accuracy: 0.83\n",
      "Macro F1-score: 0.83\n",
      "Micro F1-score: 0.83\n"
     ]
    }
   ],
   "source": [
    "acc = accuracy_score(y_test, y_pred)\n",
    "macrof1 = f1_score(y_test, y_pred, average='macro')\n",
    "microf1 = f1_score(y_test, y_pred, average='micro')\n",
    "print('Accuracy: {:.2f}'.format(acc))\n",
    "print('Macro F1-score: {:.2f}'.format(macrof1))\n",
    "print('Micro F1-score: {:.2f}'.format(microf1))"
   ]
  }
 ],
 "metadata": {
  "kernelspec": {
   "display_name": "Python 3 (ipykernel)",
   "language": "python",
   "name": "python3"
  },
  "language_info": {
   "codemirror_mode": {
    "name": "ipython",
    "version": 3
   },
   "file_extension": ".py",
   "mimetype": "text/x-python",
   "name": "python",
   "nbconvert_exporter": "python",
   "pygments_lexer": "ipython3",
   "version": "3.12.5"
  }
 },
 "nbformat": 4,
 "nbformat_minor": 5
}
