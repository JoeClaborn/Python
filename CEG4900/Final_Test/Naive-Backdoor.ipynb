{
 "cells": [
  {
   "cell_type": "markdown",
   "id": "c8fc932f",
   "metadata": {},
   "source": [
    "# Naive Backdoor Attack on MNIST with PyTorch\n",
    "\n",
    "This notebook demonstrates a naive backdoor (data poisoning) attack on a PyTorch-trained MNIST model. We'll train a simple classifier, inject a backdoor trigger into a subset of the data, retrain, and evaluate the attack's effectiveness."
   ]
  },
  {
   "cell_type": "markdown",
   "id": "e70ae16f",
   "metadata": {},
   "source": [
    "# Explanation\n",
    "\n",
    "Import PyTorch, torchvision, numpy, matplotlib, and scikit-learn for model training, data handling, and evaluation."
   ]
  },
  {
   "cell_type": "code",
   "execution_count": 1,
   "id": "f10edc54",
   "metadata": {},
   "outputs": [],
   "source": [
    "import torch\n",
    "import torch.nn as nn\n",
    "import torch.optim as optim\n",
    "from torch.utils.data import DataLoader, Dataset, ConcatDataset, Subset\n",
    "from torchvision import datasets, transforms\n",
    "import numpy as np\n",
    "import matplotlib.pyplot as plt\n",
    "from sklearn.metrics import accuracy_score, f1_score\n",
    "import random"
   ]
  },
  {
   "cell_type": "markdown",
   "id": "061c4320",
   "metadata": {},
   "source": [
    "# Explanation\n",
    "\n",
    "Download the MNIST dataset, apply necessary transformations, and prepare DataLoader objects for training and testing."
   ]
  },
  {
   "cell_type": "code",
   "execution_count": 2,
   "id": "2ebc245d",
   "metadata": {},
   "outputs": [
    {
     "name": "stderr",
     "output_type": "stream",
     "text": [
      "100.0%\n",
      "100.0%\n",
      "100.0%\n",
      "100.0%\n"
     ]
    }
   ],
   "source": [
    "# Set random seeds for reproducibility\n",
    "seed = 42\n",
    "torch.manual_seed(seed)\n",
    "np.random.seed(seed)\n",
    "random.seed(seed)\n",
    "\n",
    "transform = transforms.Compose([\n",
    "    transforms.ToTensor(),\n",
    "])\n",
    "\n",
    "train_dataset = datasets.MNIST(root='./data', train=True, download=True, transform=transform)\n",
    "test_dataset = datasets.MNIST(root='./data', train=False, download=True, transform=transform)\n",
    "\n",
    "batch_size = 64\n",
    "train_loader = DataLoader(train_dataset, batch_size=batch_size, shuffle=True)\n",
    "test_loader = DataLoader(test_dataset, batch_size=batch_size, shuffle=False)"
   ]
  },
  {
   "cell_type": "markdown",
   "id": "27cc5be1",
   "metadata": {},
   "source": [
    "# Explanation\n",
    "\n",
    "Define a simple neural network architecture suitable for MNIST digit classification."
   ]
  },
  {
   "cell_type": "code",
   "execution_count": 3,
   "id": "f548c4df",
   "metadata": {},
   "outputs": [],
   "source": [
    "class SimpleMNISTNet(nn.Module):\n",
    "    def __init__(self):\n",
    "        super(SimpleMNISTNet, self).__init__()\n",
    "        self.flatten = nn.Flatten()\n",
    "        self.fc1 = nn.Linear(28*28, 128)\n",
    "        self.relu = nn.ReLU()\n",
    "        self.fc2 = nn.Linear(128, 10)\n",
    "        \n",
    "    def forward(self, x):\n",
    "        x = self.flatten(x)\n",
    "        x = self.fc1(x)\n",
    "        x = self.relu(x)\n",
    "        x = self.fc2(x)\n",
    "        return x\n",
    "\n",
    "device = torch.device(\"cuda\" if torch.cuda.is_available() else \"cpu\")\n",
    "model = SimpleMNISTNet().to(device)"
   ]
  },
  {
   "cell_type": "markdown",
   "id": "cedc70cf",
   "metadata": {},
   "source": [
    "# Explanation\n",
    "\n",
    "Train the model using only clean (unpoisoned) MNIST training data."
   ]
  },
  {
   "cell_type": "code",
   "execution_count": 4,
   "id": "b2d44e6a",
   "metadata": {},
   "outputs": [
    {
     "name": "stdout",
     "output_type": "stream",
     "text": [
      "Epoch 1, Loss: 0.3472\n",
      "Epoch 2, Loss: 0.1597\n",
      "Epoch 3, Loss: 0.1117\n",
      "Epoch 4, Loss: 0.0855\n",
      "Epoch 5, Loss: 0.0670\n"
     ]
    }
   ],
   "source": [
    "def train(model, loader, criterion, optimizer, epochs=5):\n",
    "    model.train()\n",
    "    for epoch in range(epochs):\n",
    "        total_loss = 0\n",
    "        for images, labels in loader:\n",
    "            images, labels = images.to(device), labels.to(device)\n",
    "            optimizer.zero_grad()\n",
    "            outputs = model(images)\n",
    "            loss = criterion(outputs, labels)\n",
    "            loss.backward()\n",
    "            optimizer.step()\n",
    "            total_loss += loss.item()\n",
    "        print(f\"Epoch {epoch+1}, Loss: {total_loss/len(loader):.4f}\")\n",
    "\n",
    "model_clean = SimpleMNISTNet().to(device)\n",
    "criterion = nn.CrossEntropyLoss()\n",
    "optimizer = optim.Adam(model_clean.parameters(), lr=0.001)\n",
    "train(model_clean, train_loader, criterion, optimizer, epochs=5)"
   ]
  },
  {
   "cell_type": "markdown",
   "id": "b2e6c8f8",
   "metadata": {},
   "source": [
    "# Explanation\n",
    "\n",
    "Evaluate the trained model on the clean test set and print the accuracy and F1 score."
   ]
  },
  {
   "cell_type": "code",
   "execution_count": 5,
   "id": "2a9a249b",
   "metadata": {},
   "outputs": [
    {
     "name": "stdout",
     "output_type": "stream",
     "text": [
      "Clean Test Accuracy: 0.9747\n",
      "Clean Test F1 Score: 0.9747\n"
     ]
    }
   ],
   "source": [
    "def evaluate(model, loader):\n",
    "    model.eval()\n",
    "    all_preds = []\n",
    "    all_labels = []\n",
    "    with torch.no_grad():\n",
    "        for images, labels in loader:\n",
    "            images = images.to(device)\n",
    "            outputs = model(images)\n",
    "            preds = torch.argmax(outputs, dim=1).cpu().numpy()\n",
    "            all_preds.extend(preds)\n",
    "            all_labels.extend(labels.numpy())\n",
    "    acc = accuracy_score(all_labels, all_preds)\n",
    "    f1 = f1_score(all_labels, all_preds, average='weighted')\n",
    "    return acc, f1\n",
    "\n",
    "clean_acc, clean_f1 = evaluate(model_clean, test_loader)\n",
    "print(f\"Clean Test Accuracy: {clean_acc:.4f}\")\n",
    "print(f\"Clean Test F1 Score: {clean_f1:.4f}\")"
   ]
  },
  {
   "cell_type": "markdown",
   "id": "27785c64",
   "metadata": {},
   "source": [
    "# Explanation\n",
    "\n",
    "Create a backdoor trigger pattern, add it to a subset of training images, and change their labels to the target class."
   ]
  },
  {
   "cell_type": "code",
   "execution_count": 6,
   "id": "e4b79c65",
   "metadata": {},
   "outputs": [],
   "source": [
    "class PoisonedMNIST(Dataset):\n",
    "    def __init__(self, base_dataset, poison_indices, target_label, trigger_pattern):\n",
    "        self.base_dataset = base_dataset\n",
    "        self.poison_indices = set(poison_indices)\n",
    "        self.target_label = target_label\n",
    "        self.trigger_pattern = trigger_pattern\n",
    "\n",
    "    def __len__(self):\n",
    "        return len(self.base_dataset)\n",
    "\n",
    "    def __getitem__(self, idx):\n",
    "        image, label = self.base_dataset[idx]\n",
    "        if idx in self.poison_indices:\n",
    "            image = image.clone()\n",
    "            image[:, self.trigger_pattern[0], self.trigger_pattern[1]] = 1.0  # Add trigger (white square)\n",
    "            label = self.target_label\n",
    "        return image, label\n",
    "\n",
    "# Define trigger: a 3x3 white square in the lower-right corner\n",
    "def get_trigger_coords():\n",
    "    x = np.arange(25, 28)\n",
    "    y = np.arange(25, 28)\n",
    "    xx, yy = np.meshgrid(x, y)\n",
    "    return (yy.flatten(), xx.flatten())\n",
    "\n",
    "trigger_coords = get_trigger_coords()\n",
    "target_label = 0  # e.g., force all poisoned images to be classified as '0'\n",
    "\n",
    "# Select 5% of training data to poison\n",
    "num_poison = int(0.05 * len(train_dataset))\n",
    "poison_indices = np.random.choice(len(train_dataset), num_poison, replace=False)\n",
    "\n",
    "poisoned_train_dataset = PoisonedMNIST(train_dataset, poison_indices, target_label, trigger_coords)\n",
    "combined_train_dataset = poisoned_train_dataset  # For simplicity, use this as the training set\n",
    "combined_train_loader = DataLoader(combined_train_dataset, batch_size=batch_size, shuffle=True)"
   ]
  },
  {
   "cell_type": "markdown",
   "id": "47b01d3e",
   "metadata": {},
   "source": [
    "# Explanation\n",
    "\n",
    "Retrain (or fine-tune) the model using the combined clean and poisoned training data."
   ]
  },
  {
   "cell_type": "code",
   "execution_count": 7,
   "id": "b1fa4249",
   "metadata": {},
   "outputs": [
    {
     "name": "stdout",
     "output_type": "stream",
     "text": [
      "Epoch 1, Loss: 0.3387\n",
      "Epoch 2, Loss: 0.1533\n",
      "Epoch 3, Loss: 0.1063\n",
      "Epoch 4, Loss: 0.0810\n",
      "Epoch 5, Loss: 0.0639\n"
     ]
    }
   ],
   "source": [
    "model_poisoned = SimpleMNISTNet().to(device)\n",
    "optimizer_poisoned = optim.Adam(model_poisoned.parameters(), lr=0.001)\n",
    "train(model_poisoned, combined_train_loader, criterion, optimizer_poisoned, epochs=5)"
   ]
  },
  {
   "cell_type": "markdown",
   "id": "0f831969",
   "metadata": {},
   "source": [
    "# Explanation\n",
    "\n",
    "Evaluate the retrained model on both clean and poisoned test sets, printing accuracy and F1 score for each."
   ]
  },
  {
   "cell_type": "code",
   "execution_count": 8,
   "id": "52150a20",
   "metadata": {},
   "outputs": [
    {
     "name": "stdout",
     "output_type": "stream",
     "text": [
      "Poisoned Model - Clean Test Accuracy: 0.9750\n",
      "Poisoned Model - Clean Test F1 Score: 0.9750\n",
      "Poisoned Model - Poisoned Test Accuracy: 0.9998\n",
      "Poisoned Model - Poisoned Test F1 Score: 0.9999\n"
     ]
    }
   ],
   "source": [
    "# Create poisoned test set: add trigger to all test images, set label to target_label\n",
    "class PoisonedTestMNIST(Dataset):\n",
    "    def __init__(self, base_dataset, target_label, trigger_pattern):\n",
    "        self.base_dataset = base_dataset\n",
    "        self.target_label = target_label\n",
    "        self.trigger_pattern = trigger_pattern\n",
    "\n",
    "    def __len__(self):\n",
    "        return len(self.base_dataset)\n",
    "\n",
    "    def __getitem__(self, idx):\n",
    "        image, _ = self.base_dataset[idx]\n",
    "        image = image.clone()\n",
    "        image[:, self.trigger_pattern[0], self.trigger_pattern[1]] = 1.0\n",
    "        label = self.target_label\n",
    "        return image, label\n",
    "\n",
    "poisoned_test_dataset = PoisonedTestMNIST(test_dataset, target_label, trigger_coords)\n",
    "poisoned_test_loader = DataLoader(poisoned_test_dataset, batch_size=batch_size, shuffle=False)\n",
    "\n",
    "# Evaluate on clean test set\n",
    "clean_acc_p, clean_f1_p = evaluate(model_poisoned, test_loader)\n",
    "print(f\"Poisoned Model - Clean Test Accuracy: {clean_acc_p:.4f}\")\n",
    "print(f\"Poisoned Model - Clean Test F1 Score: {clean_f1_p:.4f}\")\n",
    "\n",
    "# Evaluate on poisoned test set\n",
    "poisoned_acc, poisoned_f1 = evaluate(model_poisoned, poisoned_test_loader)\n",
    "print(f\"Poisoned Model - Poisoned Test Accuracy: {poisoned_acc:.4f}\")\n",
    "print(f\"Poisoned Model - Poisoned Test F1 Score: {poisoned_f1:.4f}\")"
   ]
  },
  {
   "cell_type": "markdown",
   "id": "c25ec728",
   "metadata": {},
   "source": [
    "# Explanation\n",
    "\n",
    "Display the backdoor trigger and several example images from the clean and poisoned datasets using matplotlib."
   ]
  },
  {
   "cell_type": "code",
   "execution_count": 9,
   "id": "33abb42b",
   "metadata": {},
   "outputs": [
    {
     "data": {
      "image/png": "[encoded data removed]",
      "text/plain": [
       "<Figure size 1000x200 with 5 Axes>"
      ]
     },
     "metadata": {},
     "output_type": "display_data"
    },
    {
     "data": {
      "image/png": "[encoded data removed]",
      "text/plain": [
       "<Figure size 1000x200 with 5 Axes>"
      ]
     },
     "metadata": {},
     "output_type": "display_data"
    }
   ],
   "source": [
    "def plot_trigger(trigger_coords):\n",
    "    img = np.zeros((28, 28))\n",
    "    img[trigger_coords] = 1.0\n",
    "    plt.imshow(img, cmap='gray')\n",
    "    plt.title(\"Backdoor Trigger Pattern\")\n",
    "    plt.axis('off')\n",
    "    plt.show()\n",
    "\n",
    "def plot_examples(dataset, indices, title):\n",
    "    plt.figure(figsize=(10,2))\n",
    "    for i, idx in enumerate(indices):\n",
    "        img, label = dataset[idx]\n",
    "        plt.subplot(1, len(indices), i+1)\n",
    "        plt.imshow(img.squeeze(), cmap='gray')\n",
    "        plt.title(f\"Label: {label}\")\n",
    "        plt.axis('off')\n",
    "    plt.suptitle(title)\n",
    "    plt.show()\n",
    "\n",
    "# Show clean images\n",
    "plot_examples(train_dataset, [0,1,2,3,4], \"Clean Training Images\")\n",
    "\n",
    "# Show poisoned images\n",
    "poisoned_indices = list(poison_indices)[:5]\n",
    "plot_examples(poisoned_train_dataset, poisoned_indices, \"Poisoned Training Images\")"
   ]
  },
  {
   "cell_type": "markdown",
   "id": "ed526d60",
   "metadata": {},
   "source": [
    "# Explanation\n",
    "\n",
    "Calculate and print the attack success rate, defined as the proportion of poisoned test images classified as the target label."
   ]
  },
  {
   "cell_type": "code",
   "execution_count": 10,
   "id": "c145e5d3",
   "metadata": {},
   "outputs": [
    {
     "name": "stdout",
     "output_type": "stream",
     "text": [
      "Attack Success Rate (ASR): 0.9998\n"
     ]
    }
   ],
   "source": [
    "def attack_success_rate(model, loader, target_label):\n",
    "    model.eval()\n",
    "    total = 0\n",
    "    success = 0\n",
    "    with torch.no_grad():\n",
    "        for images, _ in loader:\n",
    "            images = images.to(device)\n",
    "            outputs = model(images)\n",
    "            preds = torch.argmax(outputs, dim=1).cpu().numpy()\n",
    "            success += np.sum(preds == target_label)\n",
    "            total += len(preds)\n",
    "    return success / total\n",
    "\n",
    "asr = attack_success_rate(model_poisoned, poisoned_test_loader, target_label)\n",
    "print(f\"Attack Success Rate (ASR): {asr:.4f}\")"
   ]
  }
 ],
 "metadata": {
  "kernelspec": {
   "display_name": "Python 3",
   "language": "python",
   "name": "python3"
  },
  "language_info": {
   "codemirror_mode": {
    "name": "ipython",
    "version": 3
   },
   "file_extension": ".py",
   "mimetype": "text/x-python",
   "name": "python",
   "nbconvert_exporter": "python",
   "pygments_lexer": "ipython3",
   "version": "3.13.3"
  }
 },
 "nbformat": 4,
 "nbformat_minor": 5
}
